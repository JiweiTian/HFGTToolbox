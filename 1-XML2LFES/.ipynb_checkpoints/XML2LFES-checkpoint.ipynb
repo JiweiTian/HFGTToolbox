{
 "cells": [
  {
   "cell_type": "code",
   "execution_count": 1,
   "metadata": {},
   "outputs": [
    {
     "name": "stderr",
     "output_type": "stream",
     "text": [
      "\u001b[0;31mError: Function definition not supported in this context. Create functions in code file.\n",
      "\n",
      "\u001b[0m"
     ]
    }
   ],
   "source": [
    "% function [myLFES,S]=XML2LFES(xmlFile)\n",
    "% %%  Copyright 2018 Engineering Systems Analytics LLC\n",
    "% %\n",
    "% % This function converts an XML file into an LFES structure (version 2).\n",
    "% % Proposed Usage:  LFES=XML2LFES(XMLFile)\n",
    "% disp(['I am entering ' 'XML2LFES.m'])\n",
    "% disp('fuck1')\n",
    "% S=xml2struct(xmlFile);\n",
    "\n",
    "% %% Initialize the LFES Structure\n",
    "% myLFES = initializeLFES;\n",
    "\n",
    "% %% Fill the High LFES Attributes\n",
    "% myLFES=insertObjB(myLFES,S.LFES.Attributes);\n",
    "\n",
    "% %% Setup Machines\n",
    "% if ismember('Machine',fieldnames(S.LFES))\n",
    "%     myLFES = setupMachines(myLFES, S);\n",
    "% else\n",
    "%     myLFES.machines.names=cell(0);\n",
    "% end\n",
    "\n",
    "% %% Setup Independent Buffers\n",
    "% if ismember('IndBuffer',fieldnames(S.LFES))\n",
    "%     myLFES = setupIndBuffers(myLFES, S);\n",
    "% else\n",
    "%     myLFES.indBuffers.names=cell(0);\n",
    "% end\n",
    "\n",
    "% %% Setup Transporters\n",
    "% if ismember('Transporter',fieldnames(S.LFES))\n",
    "%     myLFES = setupTransporters(myLFES, S);\n",
    "% else\n",
    "%     myLFES.transporters.names=cell(0);\n",
    "% end\n",
    "\n",
    "% %% Setup Controllers\n",
    "% if ismember('Controller',fieldnames(S.LFES))\n",
    "%     myLFES = setupControllers(myLFES, S);\n",
    "% else\n",
    "%     myLFES.controllers.names=cell(0);\n",
    "% end\n",
    "\n",
    "% %% Setup Services\n",
    "% if ismember('Service',fieldnames(S.LFES))\n",
    "%     myLFES = setupServices(myLFES, S);\n",
    "% else\n",
    "%     myLFES.services.names=cell(0);\n",
    "% end\n",
    "\n",
    "% disp('hi')\n",
    "% %% Setup Abstract Transportation Methods\n",
    "% if ismember('Abstractions',fieldnames(S.LFES))\n",
    "%     disp('hi')\n",
    "%     myLFES = setupAbstractTransportationMethods(myLFES, S);\n",
    "% end\n",
    "% disp('fuck')"
   ]
  },
  {
   "cell_type": "code",
   "execution_count": null,
   "metadata": {},
   "outputs": [],
   "source": []
  }
 ],
 "metadata": {
  "kernelspec": {
   "display_name": "Matlab",
   "language": "matlab",
   "name": "matlab"
  },
  "language_info": {
   "codemirror_mode": "octave",
   "file_extension": ".m",
   "help_links": [
    {
     "text": "MetaKernel Magics",
     "url": "https://metakernel.readthedocs.io/en/latest/source/README.html"
    }
   ],
   "mimetype": "text/x-octave",
   "name": "matlab",
   "version": "0.16.9"
  }
 },
 "nbformat": 4,
 "nbformat_minor": 2
}
