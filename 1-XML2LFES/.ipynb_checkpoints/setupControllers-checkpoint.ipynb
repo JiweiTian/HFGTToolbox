{
 "cells": [
  {
   "cell_type": "code",
   "execution_count": null,
   "metadata": {},
   "outputs": [],
   "source": [
    "function myLFES = setupControllers(myLFES, S)\n",
    "\n",
    "disp(['I am entering ' 'setupControllers.m'])\n",
    "myLFES.controllers=getResourceAttributes(S.LFES.Controller);\n",
    "[myLFES.controllers.('names')] = myLFES.controllers.('name');\n",
    "myLFES.controllers = rmfield(myLFES.controllers,'name');\n",
    "\n",
    "for k1=1:length(S.LFES.Controller)\n",
    "    %% Setup Peer Recipients\n",
    "    myLFES.controllers.peerRecipients{k1,1}=struct();\n",
    "    if ismember('PeerRecipient',fieldnames(S.LFES.Controller{k1}))\n",
    "        numRecipients = length(S.LFES.Controller{k1}.PeerRecipient);\n",
    "        if numRecipients == 1\n",
    "            myLFES.controllers.peerRecipients{k1,1}.name{1,1} = S.LFES.Controller{k1}.PeerRecipient(1).Attributes.name;\n",
    "        else\n",
    "            for k2 = 1:numRecipients\n",
    "                myLFES.controllers.peerRecipients{k1,1}.name{k2,1} = S.LFES.Controller{k1}.PeerRecipient{k2}.Attributes.name;\n",
    "            end\n",
    "        end\n",
    "    end\n",
    "end\n",
    "disp(['I am leaving  ' 'setupControllers.m'])"
   ]
  }
 ],
 "metadata": {
  "kernelspec": {
   "display_name": "Matlab",
   "language": "matlab",
   "name": "matlab"
  },
  "language_info": {
   "codemirror_mode": "octave",
   "file_extension": ".m",
   "help_links": [
    {
     "text": "MetaKernel Magics",
     "url": "https://metakernel.readthedocs.io/en/latest/source/README.html"
    }
   ],
   "mimetype": "text/x-octave",
   "name": "matlab",
   "version": "0.16.9"
  }
 },
 "nbformat": 4,
 "nbformat_minor": 2
}
