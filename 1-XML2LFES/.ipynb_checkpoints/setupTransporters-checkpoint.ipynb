{
 "cells": [
  {
   "cell_type": "code",
   "execution_count": null,
   "metadata": {},
   "outputs": [],
   "source": [
    "function myLFES = setupTransporters(myLFES, S)\n",
    "disp(['I am entering ' 'setupTransporters.m'])\n",
    "myLFES.transporters=getResourceAttributes(S.LFES.Transporter);\n",
    "[myLFES.transporters.('names')] = myLFES.transporters.('name');\n",
    "myLFES.transporters = rmfield(myLFES.transporters,'name');\n",
    "\n",
    "if length(S.LFES.Transporter) == 1\n",
    "        myLFES.transporters.methodsxPort{1,1}=struct();\n",
    "        if ismember('MethodxPort',fieldnames(S.LFES.Transporter))\n",
    "            [myLFES.transporters.methodsxPort{1,1}, myLFES.setTransportProcess, myLFES.DOFH]= ...\n",
    "                getResourceMethods(S.LFES.Transporter.MethodxPort,myLFES.setTransportProcess, myLFES.DOFH,'H');\n",
    "        end\n",
    "else\n",
    "    for k1=1:length(S.LFES.Transporter)\n",
    "        %% Setup Transporter Transportation Processes\n",
    "        myLFES.transporters.methodsxPort{k1,1}=struct();\n",
    "        if ismember('MethodxPort',fieldnames(S.LFES.Transporter{k1}))\n",
    "            [myLFES.transporters.methodsxPort{k1,1}, myLFES.setTransportProcess, myLFES.DOFH]= ...\n",
    "                getResourceMethods(S.LFES.Transporter{k1}.MethodxPort,myLFES.setTransportProcess, myLFES.DOFH,'H');\n",
    "        end\n",
    "    end\n",
    "end\n",
    "disp(['I am leaving  ' 'setupTransporters.m'])"
   ]
  }
 ],
 "metadata": {
  "kernelspec": {
   "display_name": "Matlab",
   "language": "matlab",
   "name": "matlab"
  },
  "language_info": {
   "codemirror_mode": "octave",
   "file_extension": ".m",
   "help_links": [
    {
     "text": "MetaKernel Magics",
     "url": "https://metakernel.readthedocs.io/en/latest/source/README.html"
    }
   ],
   "mimetype": "text/x-octave",
   "name": "matlab",
   "version": "0.16.9"
  }
 },
 "nbformat": 4,
 "nbformat_minor": 2
}
